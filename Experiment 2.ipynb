{
 "cells": [
  {
   "cell_type": "markdown",
   "id": "47374814-661d-46cc-b1f9-71363b00a552",
   "metadata": {},
   "source": [
    "# Experiment 2: Numerical Python (Numpy)"
   ]
  },
  {
   "cell_type": "markdown",
   "id": "b581a254-c2ff-47f1-bd2e-a293dae59f50",
   "metadata": {},
   "source": [
    "#### Name: Christian Kyle S. Antonio\n",
    "#### Section: 2-ECE-C"
   ]
  },
  {
   "cell_type": "markdown",
   "id": "b5388fdc-ac15-4831-adbd-79b9184b3bc1",
   "metadata": {},
   "source": [
    "## Normalization Problem\n",
    "##### The code is fairly straight-forward. First, it creates 5x5 array named X with 25 elements (for the sake of simplicity and replication, i decided to just use the first 25 counting numbers as the element values as opposed to making a random by random array)."
   ]
  },
  {
   "cell_type": "code",
   "execution_count": 8,
   "id": "28ed906e-1f7c-4a0a-8969-36baa7b5124a",
   "metadata": {},
   "outputs": [
    {
     "data": {
      "text/plain": [
       "array([[ 1,  2,  3,  4,  5],\n",
       "       [ 6,  7,  8,  9, 10],\n",
       "       [11, 12, 13, 14, 15],\n",
       "       [16, 17, 18, 19, 20],\n",
       "       [21, 22, 23, 24, 25]])"
      ]
     },
     "execution_count": 8,
     "metadata": {},
     "output_type": "execute_result"
    }
   ],
   "source": [
    "import numpy as np\n",
    "X = np.array([(1,2,3,4,5),(6,7,8,9,10),(11,12,13,14,15),(16,17,18,19,20),(21,22,23,24,25)]) ##defines 5x5 array\n",
    "X"
   ]
  },
  {
   "cell_type": "markdown",
   "id": "a5cb3a7b-97c9-4e10-b1cd-de2757e1a991",
   "metadata": {},
   "source": [
    "##### Then, it gets the normalized value of X using the provided equation (note that I no longer assigned separate variables for the mean and the standard deviation. this is to prevent code clutter)."
   ]
  },
  {
   "cell_type": "code",
   "execution_count": 13,
   "id": "d0389e3c-bc53-409b-aa07-1dd00862231c",
   "metadata": {},
   "outputs": [
    {
     "data": {
      "text/plain": [
       "array([[-1.66410059, -1.52542554, -1.38675049, -1.24807544, -1.10940039],\n",
       "       [-0.97072534, -0.83205029, -0.69337525, -0.5547002 , -0.41602515],\n",
       "       [-0.2773501 , -0.13867505,  0.        ,  0.13867505,  0.2773501 ],\n",
       "       [ 0.41602515,  0.5547002 ,  0.69337525,  0.83205029,  0.97072534],\n",
       "       [ 1.10940039,  1.24807544,  1.38675049,  1.52542554,  1.66410059]])"
      ]
     },
     "execution_count": 13,
     "metadata": {},
     "output_type": "execute_result"
    }
   ],
   "source": [
    "X_normalized = (X-X.mean())/X.std()\n",
    "X_normalized"
   ]
  },
  {
   "cell_type": "markdown",
   "id": "c3a48ade-bd2d-4f02-be21-e2effd21ea22",
   "metadata": {},
   "source": [
    "##### Then finally, it saves the normalized X to X_normalized.npy"
   ]
  },
  {
   "cell_type": "code",
   "execution_count": null,
   "id": "87b31349-ff16-4320-9819-837ef47e428e",
   "metadata": {},
   "outputs": [],
   "source": [
    "np.save(\"X_normalized\", X_normalized)"
   ]
  },
  {
   "cell_type": "markdown",
   "id": "c78c9b72-3eb5-4166-ba7e-74a92530c692",
   "metadata": {},
   "source": [
    "## Divisible by 3 \n",
    "##### This code too is fairly straight-forward. It first creates an array of the first 100 counting numbers.   "
   ]
  },
  {
   "cell_type": "code",
   "execution_count": 48,
   "id": "14de852f-2411-43a3-b3b7-82c9d8248f3b",
   "metadata": {},
   "outputs": [
    {
     "data": {
      "text/plain": [
       "array([  1,   2,   3,   4,   5,   6,   7,   8,   9,  10,  11,  12,  13,\n",
       "        14,  15,  16,  17,  18,  19,  20,  21,  22,  23,  24,  25,  26,\n",
       "        27,  28,  29,  30,  31,  32,  33,  34,  35,  36,  37,  38,  39,\n",
       "        40,  41,  42,  43,  44,  45,  46,  47,  48,  49,  50,  51,  52,\n",
       "        53,  54,  55,  56,  57,  58,  59,  60,  61,  62,  63,  64,  65,\n",
       "        66,  67,  68,  69,  70,  71,  72,  73,  74,  75,  76,  77,  78,\n",
       "        79,  80,  81,  82,  83,  84,  85,  86,  87,  88,  89,  90,  91,\n",
       "        92,  93,  94,  95,  96,  97,  98,  99, 100])"
      ]
     },
     "execution_count": 48,
     "metadata": {},
     "output_type": "execute_result"
    }
   ],
   "source": [
    "array = np.arange(1,101,1)\n",
    "array"
   ]
  },
  {
   "cell_type": "markdown",
   "id": "f8e2dfc0-c65b-44cd-a75d-78ae70473028",
   "metadata": {},
   "source": [
    "##### Then it squares each counting number and reshapes the array to a 10x10 array"
   ]
  },
  {
   "cell_type": "code",
   "execution_count": 44,
   "id": "d152a429-c601-4cbe-b5c0-1dfef6990fd1",
   "metadata": {},
   "outputs": [
    {
     "data": {
      "text/plain": [
       "array([[    1,     4,     9,    16,    25,    36,    49,    64,    81,\n",
       "          100],\n",
       "       [  121,   144,   169,   196,   225,   256,   289,   324,   361,\n",
       "          400],\n",
       "       [  441,   484,   529,   576,   625,   676,   729,   784,   841,\n",
       "          900],\n",
       "       [  961,  1024,  1089,  1156,  1225,  1296,  1369,  1444,  1521,\n",
       "         1600],\n",
       "       [ 1681,  1764,  1849,  1936,  2025,  2116,  2209,  2304,  2401,\n",
       "         2500],\n",
       "       [ 2601,  2704,  2809,  2916,  3025,  3136,  3249,  3364,  3481,\n",
       "         3600],\n",
       "       [ 3721,  3844,  3969,  4096,  4225,  4356,  4489,  4624,  4761,\n",
       "         4900],\n",
       "       [ 5041,  5184,  5329,  5476,  5625,  5776,  5929,  6084,  6241,\n",
       "         6400],\n",
       "       [ 6561,  6724,  6889,  7056,  7225,  7396,  7569,  7744,  7921,\n",
       "         8100],\n",
       "       [ 8281,  8464,  8649,  8836,  9025,  9216,  9409,  9604,  9801,\n",
       "        10000]])"
      ]
     },
     "execution_count": 44,
     "metadata": {},
     "output_type": "execute_result"
    }
   ],
   "source": [
    "squared_array = array ** 2\n",
    "squared_array.reshape(10,10)"
   ]
  },
  {
   "cell_type": "markdown",
   "id": "a1a73f4e-2682-473c-9c74-bd1f7b017228",
   "metadata": {},
   "source": [
    "##### Then, using a modulo argument, it finds the indeces that are divisible by three and returns the number to an array."
   ]
  },
  {
   "cell_type": "code",
   "execution_count": 41,
   "id": "83ccbfd2-3502-4d73-bde3-2ad29451b2c0",
   "metadata": {},
   "outputs": [
    {
     "data": {
      "text/plain": [
       "array([   9,   36,   81,  144,  225,  324,  441,  576,  729,  900, 1089,\n",
       "       1296, 1521, 1764, 2025, 2304, 2601, 2916, 3249, 3600, 3969, 4356,\n",
       "       4761, 5184, 5625, 6084, 6561, 7056, 7569, 8100, 8649, 9216, 9801])"
      ]
     },
     "execution_count": 41,
     "metadata": {},
     "output_type": "execute_result"
    }
   ],
   "source": [
    "div_by_3 = squared_array[squared_array%3 == 0]\n",
    "div_by_3"
   ]
  },
  {
   "cell_type": "markdown",
   "id": "511f182f-9664-4744-a580-a82bf1c9688f",
   "metadata": {},
   "source": [
    "##### This array is then saved to div_by_3.npy."
   ]
  },
  {
   "cell_type": "code",
   "execution_count": 51,
   "id": "d13f13e2-d7c5-49ec-ac0e-54d7428cbf74",
   "metadata": {},
   "outputs": [],
   "source": [
    "np.save(\"div_by_3\", div_by_3) "
   ]
  },
  {
   "cell_type": "code",
   "execution_count": 55,
   "id": "ae8a930d-a1c0-4618-8a9c-ef16fbf4571e",
   "metadata": {},
   "outputs": [
    {
     "data": {
      "text/plain": [
       "array([   9,   36,   81,  144,  225,  324,  441,  576,  729,  900, 1089,\n",
       "       1296, 1521, 1764, 2025, 2304, 2601, 2916, 3249, 3600, 3969, 4356,\n",
       "       4761, 5184, 5625, 6084, 6561, 7056, 7569, 8100, 8649, 9216, 9801])"
      ]
     },
     "execution_count": 55,
     "metadata": {},
     "output_type": "execute_result"
    }
   ],
   "source": [
    "np.load(\"div_by_3.npy\")"
   ]
  }
 ],
 "metadata": {
  "kernelspec": {
   "display_name": "Python 3 (ipykernel)",
   "language": "python",
   "name": "python3"
  },
  "language_info": {
   "codemirror_mode": {
    "name": "ipython",
    "version": 3
   },
   "file_extension": ".py",
   "mimetype": "text/x-python",
   "name": "python",
   "nbconvert_exporter": "python",
   "pygments_lexer": "ipython3",
   "version": "3.12.4"
  }
 },
 "nbformat": 4,
 "nbformat_minor": 5
}
