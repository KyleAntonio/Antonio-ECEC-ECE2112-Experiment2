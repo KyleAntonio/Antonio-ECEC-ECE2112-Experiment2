{
 "cells": [
  {
   "cell_type": "markdown",
   "id": "47374814-661d-46cc-b1f9-71363b00a552",
   "metadata": {},
   "source": [
    "# Experiment 2: Numerical Python (Numpy)"
   ]
  },
  {
   "cell_type": "markdown",
   "id": "b581a254-c2ff-47f1-bd2e-a293dae59f50",
   "metadata": {},
   "source": [
    "#### Name: Christian Kyle S. Antonio\n",
    "#### Section: 2-ECE-C"
   ]
  },
  {
   "cell_type": "markdown",
   "id": "b5388fdc-ac15-4831-adbd-79b9184b3bc1",
   "metadata": {},
   "source": [
    "## Normalization Problem\n",
    "##### The code is fairly straight-forward. First, it creates 5x5 array named X with 25 elements (for the sake of simplicity and replication, i decided to just use the first 25 counting numbers as the element values as opposed to making a random by random array). Then, it gets the normalized value of X using the provided equation (note that I no longer assigned separate variables for the mean and the standard deviation. this is to prevent code clutter). Then finally, it saves the normalized X to X_normalized.npy"
   ]
  },
  {
   "cell_type": "code",
   "execution_count": 76,
   "id": "28ed906e-1f7c-4a0a-8969-36baa7b5124a",
   "metadata": {},
   "outputs": [],
   "source": [
    "import numpy as np\n",
    "X = np.array([(1,2,3,4,5),(6,7,8,9,10),(11,12,13,14,15),(16,17,18,19,20),(21,22,23,24,25)]) ##defines 5x5 array\n",
    "X_normalized = (X-X.mean())/X.std() ##gets normalized X\n",
    "np.save(\"X_normalized\", X_normalized)  ##saves normalized X as X_normalized.npy"
   ]
  },
  {
   "cell_type": "markdown",
   "id": "c78c9b72-3eb5-4166-ba7e-74a92530c692",
   "metadata": {},
   "source": [
    "## Divisible by 3 "
   ]
  },
  {
   "cell_type": "code",
   "execution_count": 206,
   "id": "36198e50-5417-4122-a130-367116ac3a6d",
   "metadata": {},
   "outputs": [],
   "source": [
    "array = np.arange(1,101,1)  ##creates an array of counting numbers from 1-100\n",
    "squared_array = array ** 2  ##creates a different array of the square of counting numbers from 1-100\n",
    "squared_array.reshape(10,10) ##reshapes squared_array to 10x10 array\n",
    "div_by_3 = squared_array[squared_array%3 == 0] ##returns the number if the element modulo 3 is equal to 0 ie. it is divisble by 3\n",
    "np.save(\"div_by_3\", div_by_3) ##saves array of numbers divisible by 3 to div_by_3.npy"
   ]
  }
 ],
 "metadata": {
  "kernelspec": {
   "display_name": "Python 3 (ipykernel)",
   "language": "python",
   "name": "python3"
  },
  "language_info": {
   "codemirror_mode": {
    "name": "ipython",
    "version": 3
   },
   "file_extension": ".py",
   "mimetype": "text/x-python",
   "name": "python",
   "nbconvert_exporter": "python",
   "pygments_lexer": "ipython3",
   "version": "3.12.4"
  }
 },
 "nbformat": 4,
 "nbformat_minor": 5
}
